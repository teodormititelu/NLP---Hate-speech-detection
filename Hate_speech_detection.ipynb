{
  "nbformat": 4,
  "nbformat_minor": 0,
  "metadata": {
    "colab": {
      "provenance": []
    },
    "kernelspec": {
      "name": "python3",
      "display_name": "Python 3"
    },
    "language_info": {
      "name": "python"
    },
    "accelerator": "GPU",
    "gpuClass": "standard"
  },
  "cells": [
    {
      "cell_type": "code",
      "source": [
        "import torch \n",
        "import torch.nn as nn\n",
        "from torchvision import datasets, transforms\n",
        "from torch.utils.data import Dataset, DataLoader\n",
        "from PIL import Image\n",
        "from tqdm import tqdm\n",
        "from typing import Iterator, List, Callable, Tuple\n",
        "import matplotlib.pyplot as plt\n",
        "import urllib.request\n",
        "import pandas as pd\n",
        "from google.colab import drive\n",
        "import numpy as np"
      ],
      "metadata": {
        "id": "XV4iLTC_Fvud"
      },
      "execution_count": 1,
      "outputs": []
    },
    {
      "cell_type": "code",
      "execution_count": 2,
      "metadata": {
        "id": "usGljPPP5Ede"
      },
      "outputs": [],
      "source": [
        "train_data_url = 'https://drive.google.com/file/d/1M2sfCHmA0vACe4YFCN-RuN5vbrv3_Kdk/view?usp=sharing'\n",
        "train_data_csv = pd.read_csv('https://drive.google.com/uc?export=download&id='+train_data_url.split('/')[-2])\n",
        "\n",
        "test_data_url = 'https://drive.google.com/file/d/1MHmdyBg1RWPm3HvB8ydh5lxMcnndvDH9/view?usp=sharing'\n",
        "test_data_csv = pd.read_csv('https://drive.google.com/uc?export=download&id='+test_data_url.split('/')[-2])\n",
        "\n",
        "\n",
        "device = torch.device('cuda' if torch.cuda.is_available() else 'cpu')\n"
      ]
    },
    {
      "cell_type": "code",
      "source": [
        "train_data_csv"
      ],
      "metadata": {
        "colab": {
          "base_uri": "https://localhost:8080/",
          "height": 424
        },
        "id": "ZYmLVAKJAXj7",
        "outputId": "e0c73ad4-17ba-42f4-aa78-f6b38dd87ef2"
      },
      "execution_count": 3,
      "outputs": [
        {
          "output_type": "execute_result",
          "data": {
            "text/plain": [
              "                                                    Text   Final Labels     Id\n",
              "0      @CorinaTomescu05 Încă nu ...dar am trecut prin...  non-offensive      0\n",
              "1                       @emosaphicbitch sau rosu ca mine  non-offensive      1\n",
              "2      @DanaMinodora Ce frumoasa ești.. Arăți foarte ...  non-offensive      2\n",
              "3      Din fericire în extaz!Ai dus covoareleeee?? Pu...      offensive      3\n",
              "4      cand aveam vreo 5 ani credeam ca romana e sing...  non-offensive      4\n",
              "...                                                  ...            ...    ...\n",
              "39003  @violetAndro @CorinaCg3 Așa e, știu atâtea exe...  non-offensive  39003\n",
              "39004  Directorul medical SAJ Galați, despre dispecer...  non-offensive  39004\n",
              "39005  Au \"invatat\" prostii de balta de la Satan ce e...  non-offensive  39005\n",
              "39006  @_seriosul_ E o parte de adevar. Dar pana la u...  non-offensive  39006\n",
              "39007  @libertatea Să avem răbdare, să vedem ce spune...      offensive  39007\n",
              "\n",
              "[39008 rows x 3 columns]"
            ],
            "text/html": [
              "\n",
              "  <div id=\"df-782c696d-aac5-4ca5-98d0-ba8fffb44113\">\n",
              "    <div class=\"colab-df-container\">\n",
              "      <div>\n",
              "<style scoped>\n",
              "    .dataframe tbody tr th:only-of-type {\n",
              "        vertical-align: middle;\n",
              "    }\n",
              "\n",
              "    .dataframe tbody tr th {\n",
              "        vertical-align: top;\n",
              "    }\n",
              "\n",
              "    .dataframe thead th {\n",
              "        text-align: right;\n",
              "    }\n",
              "</style>\n",
              "<table border=\"1\" class=\"dataframe\">\n",
              "  <thead>\n",
              "    <tr style=\"text-align: right;\">\n",
              "      <th></th>\n",
              "      <th>Text</th>\n",
              "      <th>Final Labels</th>\n",
              "      <th>Id</th>\n",
              "    </tr>\n",
              "  </thead>\n",
              "  <tbody>\n",
              "    <tr>\n",
              "      <th>0</th>\n",
              "      <td>@CorinaTomescu05 Încă nu ...dar am trecut prin...</td>\n",
              "      <td>non-offensive</td>\n",
              "      <td>0</td>\n",
              "    </tr>\n",
              "    <tr>\n",
              "      <th>1</th>\n",
              "      <td>@emosaphicbitch sau rosu ca mine</td>\n",
              "      <td>non-offensive</td>\n",
              "      <td>1</td>\n",
              "    </tr>\n",
              "    <tr>\n",
              "      <th>2</th>\n",
              "      <td>@DanaMinodora Ce frumoasa ești.. Arăți foarte ...</td>\n",
              "      <td>non-offensive</td>\n",
              "      <td>2</td>\n",
              "    </tr>\n",
              "    <tr>\n",
              "      <th>3</th>\n",
              "      <td>Din fericire în extaz!Ai dus covoareleeee?? Pu...</td>\n",
              "      <td>offensive</td>\n",
              "      <td>3</td>\n",
              "    </tr>\n",
              "    <tr>\n",
              "      <th>4</th>\n",
              "      <td>cand aveam vreo 5 ani credeam ca romana e sing...</td>\n",
              "      <td>non-offensive</td>\n",
              "      <td>4</td>\n",
              "    </tr>\n",
              "    <tr>\n",
              "      <th>...</th>\n",
              "      <td>...</td>\n",
              "      <td>...</td>\n",
              "      <td>...</td>\n",
              "    </tr>\n",
              "    <tr>\n",
              "      <th>39003</th>\n",
              "      <td>@violetAndro @CorinaCg3 Așa e, știu atâtea exe...</td>\n",
              "      <td>non-offensive</td>\n",
              "      <td>39003</td>\n",
              "    </tr>\n",
              "    <tr>\n",
              "      <th>39004</th>\n",
              "      <td>Directorul medical SAJ Galați, despre dispecer...</td>\n",
              "      <td>non-offensive</td>\n",
              "      <td>39004</td>\n",
              "    </tr>\n",
              "    <tr>\n",
              "      <th>39005</th>\n",
              "      <td>Au \"invatat\" prostii de balta de la Satan ce e...</td>\n",
              "      <td>non-offensive</td>\n",
              "      <td>39005</td>\n",
              "    </tr>\n",
              "    <tr>\n",
              "      <th>39006</th>\n",
              "      <td>@_seriosul_ E o parte de adevar. Dar pana la u...</td>\n",
              "      <td>non-offensive</td>\n",
              "      <td>39006</td>\n",
              "    </tr>\n",
              "    <tr>\n",
              "      <th>39007</th>\n",
              "      <td>@libertatea Să avem răbdare, să vedem ce spune...</td>\n",
              "      <td>offensive</td>\n",
              "      <td>39007</td>\n",
              "    </tr>\n",
              "  </tbody>\n",
              "</table>\n",
              "<p>39008 rows × 3 columns</p>\n",
              "</div>\n",
              "      <button class=\"colab-df-convert\" onclick=\"convertToInteractive('df-782c696d-aac5-4ca5-98d0-ba8fffb44113')\"\n",
              "              title=\"Convert this dataframe to an interactive table.\"\n",
              "              style=\"display:none;\">\n",
              "        \n",
              "  <svg xmlns=\"http://www.w3.org/2000/svg\" height=\"24px\"viewBox=\"0 0 24 24\"\n",
              "       width=\"24px\">\n",
              "    <path d=\"M0 0h24v24H0V0z\" fill=\"none\"/>\n",
              "    <path d=\"M18.56 5.44l.94 2.06.94-2.06 2.06-.94-2.06-.94-.94-2.06-.94 2.06-2.06.94zm-11 1L8.5 8.5l.94-2.06 2.06-.94-2.06-.94L8.5 2.5l-.94 2.06-2.06.94zm10 10l.94 2.06.94-2.06 2.06-.94-2.06-.94-.94-2.06-.94 2.06-2.06.94z\"/><path d=\"M17.41 7.96l-1.37-1.37c-.4-.4-.92-.59-1.43-.59-.52 0-1.04.2-1.43.59L10.3 9.45l-7.72 7.72c-.78.78-.78 2.05 0 2.83L4 21.41c.39.39.9.59 1.41.59.51 0 1.02-.2 1.41-.59l7.78-7.78 2.81-2.81c.8-.78.8-2.07 0-2.86zM5.41 20L4 18.59l7.72-7.72 1.47 1.35L5.41 20z\"/>\n",
              "  </svg>\n",
              "      </button>\n",
              "      \n",
              "  <style>\n",
              "    .colab-df-container {\n",
              "      display:flex;\n",
              "      flex-wrap:wrap;\n",
              "      gap: 12px;\n",
              "    }\n",
              "\n",
              "    .colab-df-convert {\n",
              "      background-color: #E8F0FE;\n",
              "      border: none;\n",
              "      border-radius: 50%;\n",
              "      cursor: pointer;\n",
              "      display: none;\n",
              "      fill: #1967D2;\n",
              "      height: 32px;\n",
              "      padding: 0 0 0 0;\n",
              "      width: 32px;\n",
              "    }\n",
              "\n",
              "    .colab-df-convert:hover {\n",
              "      background-color: #E2EBFA;\n",
              "      box-shadow: 0px 1px 2px rgba(60, 64, 67, 0.3), 0px 1px 3px 1px rgba(60, 64, 67, 0.15);\n",
              "      fill: #174EA6;\n",
              "    }\n",
              "\n",
              "    [theme=dark] .colab-df-convert {\n",
              "      background-color: #3B4455;\n",
              "      fill: #D2E3FC;\n",
              "    }\n",
              "\n",
              "    [theme=dark] .colab-df-convert:hover {\n",
              "      background-color: #434B5C;\n",
              "      box-shadow: 0px 1px 3px 1px rgba(0, 0, 0, 0.15);\n",
              "      filter: drop-shadow(0px 1px 2px rgba(0, 0, 0, 0.3));\n",
              "      fill: #FFFFFF;\n",
              "    }\n",
              "  </style>\n",
              "\n",
              "      <script>\n",
              "        const buttonEl =\n",
              "          document.querySelector('#df-782c696d-aac5-4ca5-98d0-ba8fffb44113 button.colab-df-convert');\n",
              "        buttonEl.style.display =\n",
              "          google.colab.kernel.accessAllowed ? 'block' : 'none';\n",
              "\n",
              "        async function convertToInteractive(key) {\n",
              "          const element = document.querySelector('#df-782c696d-aac5-4ca5-98d0-ba8fffb44113');\n",
              "          const dataTable =\n",
              "            await google.colab.kernel.invokeFunction('convertToInteractive',\n",
              "                                                     [key], {});\n",
              "          if (!dataTable) return;\n",
              "\n",
              "          const docLinkHtml = 'Like what you see? Visit the ' +\n",
              "            '<a target=\"_blank\" href=https://colab.research.google.com/notebooks/data_table.ipynb>data table notebook</a>'\n",
              "            + ' to learn more about interactive tables.';\n",
              "          element.innerHTML = '';\n",
              "          dataTable['output_type'] = 'display_data';\n",
              "          await google.colab.output.renderOutput(dataTable, element);\n",
              "          const docLink = document.createElement('div');\n",
              "          docLink.innerHTML = docLinkHtml;\n",
              "          element.appendChild(docLink);\n",
              "        }\n",
              "      </script>\n",
              "    </div>\n",
              "  </div>\n",
              "  "
            ]
          },
          "metadata": {},
          "execution_count": 3
        }
      ]
    },
    {
      "cell_type": "markdown",
      "source": [
        "Drop corrupted rows."
      ],
      "metadata": {
        "id": "_a4NBue3Hk0w"
      }
    },
    {
      "cell_type": "code",
      "source": [
        "print( train_data_csv.shape)\n",
        "bad_input = []\n",
        "for index,row in train_data_csv.iterrows():\n",
        "  if 'keyword' in row['Text']:\n",
        "    bad_input.append(index)\n",
        "\n",
        "bad_input.reverse()\n",
        "print( bad_input )\n",
        "\n",
        "for index in bad_input:\n",
        "  train_data_csv = train_data_csv.drop( index )\n",
        "\n",
        "train_data_csv.index = range(len(train_data_csv))\n",
        "print( train_data_csv.shape )\n",
        "#print( train_data_csv['Final labels'].shape)"
      ],
      "metadata": {
        "colab": {
          "base_uri": "https://localhost:8080/"
        },
        "id": "gDFEFNbR-YI3",
        "outputId": "dd8ae9f8-aa16-4b9b-df92-9759bb9229d4"
      },
      "execution_count": 4,
      "outputs": [
        {
          "output_type": "stream",
          "name": "stdout",
          "text": [
            "(39008, 3)\n",
            "[34257, 33414, 32609, 31671, 29515, 27676, 27463, 26907, 15495, 15154, 10025, 2473]\n",
            "(38996, 3)\n"
          ]
        }
      ]
    },
    {
      "cell_type": "code",
      "source": [
        "! pip install emoji"
      ],
      "metadata": {
        "id": "pLaWHKJpeyOh"
      },
      "execution_count": null,
      "outputs": []
    },
    {
      "cell_type": "markdown",
      "source": [
        "Data preprocessing"
      ],
      "metadata": {
        "id": "F_5hm24GcX9g"
      }
    },
    {
      "cell_type": "code",
      "source": [
        "#extract strings from dataframe\n",
        "texts = []\n",
        "for text in  train_data_csv[\"Text\"]:\n",
        "  texts.append(text)\n",
        "\n",
        "tests = []\n",
        "for test in test_data_csv['Text']:\n",
        "  tests.append(test)\n",
        "\n",
        "texts = [text.lower() for text in texts]\n",
        "tests = [test.lower() for test in tests]\n",
        "\n",
        "import re\n",
        "\n",
        "#remove tags\n",
        "texts_no_tags = [re.sub(r'@[a-zA-Z0-9_]+','', text) for text in texts]\n",
        "tests_no_tags = [re.sub(r'@[a-zA-Z0-9_]+','', test) for test in tests]\n",
        "\n",
        "import string\n",
        "\n",
        "#remove punctuation\n",
        "translator = str.maketrans(string.punctuation + \"’–“”…„—：︵‿\", ' '*len(string.punctuation + \"’–“”…„—：︵‿\"))\n",
        "texts_no_punct = [text.translate(translator) for text in texts_no_tags]\n",
        "tests_no_punct = [test.translate(translator) for test in tests_no_tags]\n",
        "\n",
        "#remove extra spaces\n",
        "texts_no_spaces = [re.sub(r'\\s+', ' ', text).strip() for text in texts_no_punct]\n",
        "tests_no_spaces = [re.sub(r'\\s+', ' ', test).strip() for test in tests_no_punct]\n",
        "\n",
        "import emoji\n",
        "\n",
        "#remove emojis\n",
        "text_no_emoji = [emoji.demojize(text, language='en') for text in texts_no_spaces]\n",
        "test_no_emoji = [emoji.demojize(test, language='en') for test in tests_no_spaces]\n"
      ],
      "metadata": {
        "id": "Pnrr2THzHroA"
      },
      "execution_count": 5,
      "outputs": []
    },
    {
      "cell_type": "code",
      "source": [
        "!python -m spacy download ro_core_news_lg"
      ],
      "metadata": {
        "id": "ySaxb4mKelxJ"
      },
      "execution_count": null,
      "outputs": []
    },
    {
      "cell_type": "markdown",
      "source": [
        "Remove stop words"
      ],
      "metadata": {
        "id": "jEeUHmxkchEY"
      }
    },
    {
      "cell_type": "code",
      "source": [
        "import spacy\n",
        "nlp = spacy.load('ro_core_news_lg')\n",
        "stop_words_spacy = nlp.Defaults.stop_words\n",
        "\n",
        "\n",
        "texts_no_stop = []\n",
        "for text in text_no_emoji:\n",
        "  no_stop = [word for word in text.split(' ') if word not in stop_words_spacy]\n",
        "  texts_no_stop.append(\" \".join(no_stop))\n",
        "\n",
        "tests_no_stop = []\n",
        "for test in test_no_emoji:\n",
        "  no_stop = [word for word in test.split(' ') if word not in stop_words_spacy]\n",
        "  tests_no_stop.append(\" \".join(no_stop))\n"
      ],
      "metadata": {
        "id": "egblgiZvLGJd"
      },
      "execution_count": 6,
      "outputs": []
    },
    {
      "cell_type": "markdown",
      "source": [
        "Words are lemmatized."
      ],
      "metadata": {
        "id": "w_fxfOpjdt6a"
      }
    },
    {
      "cell_type": "code",
      "source": [
        "texts_lemma = []\n",
        "for text in texts_no_stop:\n",
        "  words = []\n",
        "  doc = nlp(text)\n",
        "  for word in doc:\n",
        "    words.append(word.lemma_)\n",
        "  texts_lemma.append(words)\n",
        "\n",
        "tests_lemma = []\n",
        "for test in tests_no_stop:\n",
        "  words = []\n",
        "  doc = nlp(test)\n",
        "  for word in doc:\n",
        "    words.append(word.lemma_)\n",
        "  tests_lemma.append(words)\n",
        "\n",
        "print(texts_lemma[:10])\n",
        "\n",
        "print( type(texts_lemma), len(texts_lemma) )"
      ],
      "metadata": {
        "id": "AEcK4YB8mTRs",
        "colab": {
          "base_uri": "https://localhost:8080/"
        },
        "outputId": "a4a89d9e-28d7-42b4-b7c0-c24f3db5fa52"
      },
      "execution_count": 7,
      "outputs": [
        {
          "output_type": "stream",
          "name": "stdout",
          "text": [
            "[['încă', 'trece', '28', ':', 'grinning_face_with_big_eyes::grinning_face_with_big_eyes', ':', 'fericit', ':', 'thumbs_up::hibiscus', ':'], ['rosu'], ['frumoas', 'arate', 'frumoaso'], ['fericire', 'extaz', 'duce', 'covoareleeee', 'pune', 'mîna', 'aspira', 'tavan', 'perete', 'sta', 'aspirator', 'degeaba', 'bate', 'joc', 'ban', 'vaiiii', 'fura', 'răpire', 'serai', 'dreaq', 'rembranzi', 'monezi', 'dispărea', 'păgubi', 'pwp'], ['avea', '5', 'an', 'crede', 'romană', 'singur', 'limbă', 'lume', 'exista', 'injuratură', 'dată', 'auzeam', 'injurand', 'complet', 'dezgustat'], ['prințesă', 'frumos', 'sexxxxyyy'], ['ionică', 'clipă', 'vedea', 'oară', 'ști', 'vrea', 'băiat', 'vis', 'băiețel', 'penis', 'cuceri', 'inimă', 'pământ', 'iubire', 'etern', 'vrea', 'ști', 'alat', ':', 'no_one_under_eighteen::smiling_face_with_hearts::smiling_face_with_open_hands', ':'], ['coronavirus', 'România', '29', 'iunie', '2021', '294', 'deces', 'înregistra', 'ultim', '24', 'oră'], ['ieși', 'casă'], ['corp', 'mod', 'toamnă', 'somn', 'devreme', 'chef', 'bandă']]\n",
            "<class 'list'> 38996\n"
          ]
        }
      ]
    },
    {
      "cell_type": "code",
      "source": [
        "train_data = texts_lemma\n",
        "for index,text in enumerate(train_data):\n",
        "  row = ' '.join(str(word) for word in text)\n",
        "  train_data_csv.loc[index, 'Text'] = row\n",
        "\n",
        "test_data = tests_lemma\n",
        "for index,test in enumerate(test_data):\n",
        "  row = ' '.join(str(word) for word in test)\n",
        "  test_data_csv.loc[index, 'Text'] = row\n",
        "\n",
        "train_data_csv[:10]"
      ],
      "metadata": {
        "colab": {
          "base_uri": "https://localhost:8080/",
          "height": 363
        },
        "id": "KGUnJ0EvfGhb",
        "outputId": "dbe1e736-60db-45dc-c9fd-ff795619650c"
      },
      "execution_count": 8,
      "outputs": [
        {
          "output_type": "execute_result",
          "data": {
            "text/plain": [
              "                                                Text   Final Labels  Id\n",
              "0  încă trece 28 : grinning_face_with_big_eyes::g...  non-offensive   0\n",
              "1                                               rosu  non-offensive   1\n",
              "2                             frumoas arate frumoaso  non-offensive   2\n",
              "3  fericire extaz duce covoareleeee pune mîna asp...      offensive   3\n",
              "4  avea 5 an crede romană singur limbă lume exist...  non-offensive   4\n",
              "5                          prințesă frumos sexxxxyyy         direct   5\n",
              "6  ionică clipă vedea oară ști vrea băiat vis băi...         direct   6\n",
              "7  coronavirus România 29 iunie 2021 294 deces în...  non-offensive   7\n",
              "8                                          ieși casă      offensive   8\n",
              "9            corp mod toamnă somn devreme chef bandă  non-offensive   9"
            ],
            "text/html": [
              "\n",
              "  <div id=\"df-2230591a-097b-47d0-b63e-677ce70004a2\">\n",
              "    <div class=\"colab-df-container\">\n",
              "      <div>\n",
              "<style scoped>\n",
              "    .dataframe tbody tr th:only-of-type {\n",
              "        vertical-align: middle;\n",
              "    }\n",
              "\n",
              "    .dataframe tbody tr th {\n",
              "        vertical-align: top;\n",
              "    }\n",
              "\n",
              "    .dataframe thead th {\n",
              "        text-align: right;\n",
              "    }\n",
              "</style>\n",
              "<table border=\"1\" class=\"dataframe\">\n",
              "  <thead>\n",
              "    <tr style=\"text-align: right;\">\n",
              "      <th></th>\n",
              "      <th>Text</th>\n",
              "      <th>Final Labels</th>\n",
              "      <th>Id</th>\n",
              "    </tr>\n",
              "  </thead>\n",
              "  <tbody>\n",
              "    <tr>\n",
              "      <th>0</th>\n",
              "      <td>încă trece 28 : grinning_face_with_big_eyes::g...</td>\n",
              "      <td>non-offensive</td>\n",
              "      <td>0</td>\n",
              "    </tr>\n",
              "    <tr>\n",
              "      <th>1</th>\n",
              "      <td>rosu</td>\n",
              "      <td>non-offensive</td>\n",
              "      <td>1</td>\n",
              "    </tr>\n",
              "    <tr>\n",
              "      <th>2</th>\n",
              "      <td>frumoas arate frumoaso</td>\n",
              "      <td>non-offensive</td>\n",
              "      <td>2</td>\n",
              "    </tr>\n",
              "    <tr>\n",
              "      <th>3</th>\n",
              "      <td>fericire extaz duce covoareleeee pune mîna asp...</td>\n",
              "      <td>offensive</td>\n",
              "      <td>3</td>\n",
              "    </tr>\n",
              "    <tr>\n",
              "      <th>4</th>\n",
              "      <td>avea 5 an crede romană singur limbă lume exist...</td>\n",
              "      <td>non-offensive</td>\n",
              "      <td>4</td>\n",
              "    </tr>\n",
              "    <tr>\n",
              "      <th>5</th>\n",
              "      <td>prințesă frumos sexxxxyyy</td>\n",
              "      <td>direct</td>\n",
              "      <td>5</td>\n",
              "    </tr>\n",
              "    <tr>\n",
              "      <th>6</th>\n",
              "      <td>ionică clipă vedea oară ști vrea băiat vis băi...</td>\n",
              "      <td>direct</td>\n",
              "      <td>6</td>\n",
              "    </tr>\n",
              "    <tr>\n",
              "      <th>7</th>\n",
              "      <td>coronavirus România 29 iunie 2021 294 deces în...</td>\n",
              "      <td>non-offensive</td>\n",
              "      <td>7</td>\n",
              "    </tr>\n",
              "    <tr>\n",
              "      <th>8</th>\n",
              "      <td>ieși casă</td>\n",
              "      <td>offensive</td>\n",
              "      <td>8</td>\n",
              "    </tr>\n",
              "    <tr>\n",
              "      <th>9</th>\n",
              "      <td>corp mod toamnă somn devreme chef bandă</td>\n",
              "      <td>non-offensive</td>\n",
              "      <td>9</td>\n",
              "    </tr>\n",
              "  </tbody>\n",
              "</table>\n",
              "</div>\n",
              "      <button class=\"colab-df-convert\" onclick=\"convertToInteractive('df-2230591a-097b-47d0-b63e-677ce70004a2')\"\n",
              "              title=\"Convert this dataframe to an interactive table.\"\n",
              "              style=\"display:none;\">\n",
              "        \n",
              "  <svg xmlns=\"http://www.w3.org/2000/svg\" height=\"24px\"viewBox=\"0 0 24 24\"\n",
              "       width=\"24px\">\n",
              "    <path d=\"M0 0h24v24H0V0z\" fill=\"none\"/>\n",
              "    <path d=\"M18.56 5.44l.94 2.06.94-2.06 2.06-.94-2.06-.94-.94-2.06-.94 2.06-2.06.94zm-11 1L8.5 8.5l.94-2.06 2.06-.94-2.06-.94L8.5 2.5l-.94 2.06-2.06.94zm10 10l.94 2.06.94-2.06 2.06-.94-2.06-.94-.94-2.06-.94 2.06-2.06.94z\"/><path d=\"M17.41 7.96l-1.37-1.37c-.4-.4-.92-.59-1.43-.59-.52 0-1.04.2-1.43.59L10.3 9.45l-7.72 7.72c-.78.78-.78 2.05 0 2.83L4 21.41c.39.39.9.59 1.41.59.51 0 1.02-.2 1.41-.59l7.78-7.78 2.81-2.81c.8-.78.8-2.07 0-2.86zM5.41 20L4 18.59l7.72-7.72 1.47 1.35L5.41 20z\"/>\n",
              "  </svg>\n",
              "      </button>\n",
              "      \n",
              "  <style>\n",
              "    .colab-df-container {\n",
              "      display:flex;\n",
              "      flex-wrap:wrap;\n",
              "      gap: 12px;\n",
              "    }\n",
              "\n",
              "    .colab-df-convert {\n",
              "      background-color: #E8F0FE;\n",
              "      border: none;\n",
              "      border-radius: 50%;\n",
              "      cursor: pointer;\n",
              "      display: none;\n",
              "      fill: #1967D2;\n",
              "      height: 32px;\n",
              "      padding: 0 0 0 0;\n",
              "      width: 32px;\n",
              "    }\n",
              "\n",
              "    .colab-df-convert:hover {\n",
              "      background-color: #E2EBFA;\n",
              "      box-shadow: 0px 1px 2px rgba(60, 64, 67, 0.3), 0px 1px 3px 1px rgba(60, 64, 67, 0.15);\n",
              "      fill: #174EA6;\n",
              "    }\n",
              "\n",
              "    [theme=dark] .colab-df-convert {\n",
              "      background-color: #3B4455;\n",
              "      fill: #D2E3FC;\n",
              "    }\n",
              "\n",
              "    [theme=dark] .colab-df-convert:hover {\n",
              "      background-color: #434B5C;\n",
              "      box-shadow: 0px 1px 3px 1px rgba(0, 0, 0, 0.15);\n",
              "      filter: drop-shadow(0px 1px 2px rgba(0, 0, 0, 0.3));\n",
              "      fill: #FFFFFF;\n",
              "    }\n",
              "  </style>\n",
              "\n",
              "      <script>\n",
              "        const buttonEl =\n",
              "          document.querySelector('#df-2230591a-097b-47d0-b63e-677ce70004a2 button.colab-df-convert');\n",
              "        buttonEl.style.display =\n",
              "          google.colab.kernel.accessAllowed ? 'block' : 'none';\n",
              "\n",
              "        async function convertToInteractive(key) {\n",
              "          const element = document.querySelector('#df-2230591a-097b-47d0-b63e-677ce70004a2');\n",
              "          const dataTable =\n",
              "            await google.colab.kernel.invokeFunction('convertToInteractive',\n",
              "                                                     [key], {});\n",
              "          if (!dataTable) return;\n",
              "\n",
              "          const docLinkHtml = 'Like what you see? Visit the ' +\n",
              "            '<a target=\"_blank\" href=https://colab.research.google.com/notebooks/data_table.ipynb>data table notebook</a>'\n",
              "            + ' to learn more about interactive tables.';\n",
              "          element.innerHTML = '';\n",
              "          dataTable['output_type'] = 'display_data';\n",
              "          await google.colab.output.renderOutput(dataTable, element);\n",
              "          const docLink = document.createElement('div');\n",
              "          docLink.innerHTML = docLinkHtml;\n",
              "          element.appendChild(docLink);\n",
              "        }\n",
              "      </script>\n",
              "    </div>\n",
              "  </div>\n",
              "  "
            ]
          },
          "metadata": {},
          "execution_count": 8
        }
      ]
    },
    {
      "cell_type": "code",
      "source": [
        "from google.colab import  drive\n",
        "drive.mount('/drive')\n",
        "train_data_csv.to_csv('/drive/My Drive/Nitro NLP - cercopitechs/preprocessed_train.csv')\n",
        "test_data_csv.to_csv('/drive/My Drive/Nitro NLP - cercopitechs/preprocessed_test.csv')\n",
        "\n",
        "\n"
      ],
      "metadata": {
        "colab": {
          "base_uri": "https://localhost:8080/"
        },
        "id": "tk4DLAgOiiw7",
        "outputId": "22463999-133d-4735-d93f-8992719d967a"
      },
      "execution_count": 9,
      "outputs": [
        {
          "output_type": "stream",
          "name": "stdout",
          "text": [
            "Drive already mounted at /drive; to attempt to forcibly remount, call drive.mount(\"/drive\", force_remount=True).\n"
          ]
        }
      ]
    },
    {
      "cell_type": "code",
      "source": [
        "train_data_csv = pd.read_csv(\"/drive/My Drive/Nitro NLP - cercopitechs/preprocessed_train.csv\")\n",
        "train_data_csv = train_data_csv.astype(str)\n",
        "\n",
        "test_data_csv = pd.read_csv(\"/drive/My Drive/Nitro NLP - cercopitechs/preprocessed_test.csv\")\n",
        "test_data_csv = test_data_csv.astype(str)"
      ],
      "metadata": {
        "id": "EEi3Dna-o2kL"
      },
      "execution_count": 2,
      "outputs": []
    },
    {
      "cell_type": "code",
      "source": [
        "from sklearn.feature_extraction.text import TfidfVectorizer\n",
        "from keras.utils import np_utils\n",
        "from keras.models import Sequential\n",
        "from keras.layers import Embedding, BatchNormalization, Dense, Flatten, Dropout, Bidirectional,Flatten, GlobalMaxPool1D,Dropout\n",
        "from keras.callbacks import EarlyStopping\n",
        "from itertools import chain\n",
        "from sklearn.model_selection import train_test_split\n",
        "from sklearn.metrics import accuracy_score, f1_score, confusion_matrix, classification_report\n",
        "import xgboost as xgb\n",
        "from sklearn import svm\n",
        "import math\n",
        "\n",
        "labels = {'non-offensive':0,\n",
        "          'offensive':1,\n",
        "          'direct':2,\n",
        "          'descriptive':3,\n",
        "          'reporting':4\n",
        "          }\n",
        "\n",
        "train_data = train_data_csv['Text']\n",
        "test_data = test_data_csv['Text']\n",
        "\n",
        "train_data_csv['Final Labels'] = train_data_csv['Final Labels'].map(lambda x: labels[x])\n",
        "train_labels = train_data_csv['Final Labels']\n",
        "\n",
        "#for SVM\n",
        "off,not_off,direct,desc,rep = np.bincount(train_data_csv['Final Labels'])\n",
        "num_labels = len(train_data_csv['Final Labels'])\n",
        "\n",
        "del train_data_csv\n"
      ],
      "metadata": {
        "id": "-ep3g4YVgGRp"
      },
      "execution_count": 3,
      "outputs": []
    },
    {
      "cell_type": "code",
      "source": [
        "train_data"
      ],
      "metadata": {
        "id": "5ZIorh-v5YUR",
        "colab": {
          "base_uri": "https://localhost:8080/"
        },
        "outputId": "98b1a825-d8c2-41ea-cf2e-16ab1db57732"
      },
      "execution_count": 12,
      "outputs": [
        {
          "output_type": "execute_result",
          "data": {
            "text/plain": [
              "0        încă trece 28 : grinning_face_with_big_eyes::g...\n",
              "1                                                     rosu\n",
              "2                                   frumoas arate frumoaso\n",
              "3        fericire extaz duce covoareleeee pune mîna asp...\n",
              "4        avea 5 an crede romană singur limbă lume exist...\n",
              "                               ...                        \n",
              "38991                    așa atât exemplu strica copil bai\n",
              "38992    director medical saj galat dispeceră 112 atitu...\n",
              "38993                    invata prostie baltă satan om bun\n",
              "38994    parte adevar pană urmă posibilitate medalie jo...\n",
              "38995    răbdare vedea spune Olanda putea bulgar întâi ...\n",
              "Name: Text, Length: 38996, dtype: object"
            ]
          },
          "metadata": {},
          "execution_count": 12
        }
      ]
    },
    {
      "cell_type": "code",
      "source": [
        "tfidf = TfidfVectorizer(binary=True, max_features = 20000, dtype = np.float32)\n",
        "\n",
        "#for mlp - RAM crash with float16 :(\n",
        "train_data = tfidf.fit_transform(train_data).todense()\n",
        "train_labels = np_utils.to_categorical(train_labels)\n",
        "\n",
        "train_data, val_data, train_labels, val_labels = train_test_split(train_data, train_labels, test_size=0.2, random_state=0)\n",
        "\n",
        "def MLP():\n",
        "  model = Sequential()\n",
        "  model.add(Dense(512, activation='relu')) #dense_layer\n",
        "  model.add(Dropout(0.9))#dropout_layer\n",
        "  model.add(Dense(5, activation=\"softmax\", name='classifier')) #classification_layer\n",
        "  model.compile(optimizer='adam',loss='categorical_crossentropy',metrics=['accuracy'])\n",
        "  return model\n",
        "\n",
        "#building model\n",
        "mlp_model=MLP()\n",
        "\n",
        "#running model\n",
        "es = EarlyStopping(monitor='val_loss', mode='min', verbose=1)\n",
        "mlp_history = mlp_model.fit(train_data, \n",
        "                      train_labels, \n",
        "                      batch_size=128,\n",
        "                      epochs=20,\n",
        "                      validation_data=(val_data, val_labels),\n",
        "                      callbacks = [es])\n",
        "\n",
        "history_dict = mlp_history.history\n",
        "print(history_dict.keys())\n",
        "acc = history_dict['accuracy']\n",
        "val_acc = history_dict['val_accuracy']\n",
        "loss = history_dict['loss']\n",
        "val_loss = history_dict['val_loss']\n",
        "epochs = range(1, len(acc) + 1)\n",
        "\n",
        "#defining_figures\n",
        "fig = plt.figure(figsize=(12, 10))\n",
        "fig.tight_layout()\n",
        "#1st_figure\n",
        "plt.subplot(2, 1, 1)\n",
        "plt.plot(epochs, loss, 'r', label='Training-loss')#training_loss\n",
        "plt.plot(epochs, val_loss, 'b', label='Validation-loss')#validation_loss\n",
        "plt.title('Training & validation Loss')\n",
        "plt.xlabel('Epochs-Count')\n",
        "plt.ylabel('Loss')\n",
        "plt.legend()\n",
        "#2nd_Figure\n",
        "plt.subplot(2, 1, 2)\n",
        "plt.plot(epochs, acc, 'r', label='Training-accuracy')#training_accuracy\n",
        "plt.plot(epochs, val_acc, 'b', label='Validation-accuracy')#validation_accuracy\n",
        "plt.title('Training & Validation Accuracy')\n",
        "plt.xlabel('Epochs-Count')\n",
        "plt.ylabel('Acc')\n",
        "plt.legend(loc='lower right')\n",
        "\n",
        "#y_test = np.array(list(chain.from_iterable(y_test)))\n",
        "#predicting\n",
        "#y_pred = build_model.predict_classes(x_test, verbose=0)\n",
        "\n",
        "#creating reports\n",
        "#print(confusion_matrix(y_test_, y_pred))\n",
        "#print(classification_report(y_test_, y_pred))"
      ],
      "metadata": {
        "id": "FgmT6HDnFjo1",
        "colab": {
          "base_uri": "https://localhost:8080/",
          "height": 765
        },
        "outputId": "353556ad-19fe-488d-f8c1-cdd5deb67200"
      },
      "execution_count": 8,
      "outputs": [
        {
          "output_type": "stream",
          "name": "stdout",
          "text": [
            "Epoch 1/20\n",
            "195/195 [==============================] - 6s 18ms/step - loss: 0.8222 - accuracy: 0.7827 - val_loss: 0.6340 - val_accuracy: 0.7929\n",
            "Epoch 2/20\n",
            "195/195 [==============================] - 2s 12ms/step - loss: 0.5865 - accuracy: 0.8121 - val_loss: 0.5484 - val_accuracy: 0.8272\n",
            "Epoch 2: early stopping\n",
            "dict_keys(['loss', 'accuracy', 'val_loss', 'val_accuracy'])\n"
          ]
        },
        {
          "output_type": "execute_result",
          "data": {
            "text/plain": [
              "<matplotlib.legend.Legend at 0x7f8d12fb5970>"
            ]
          },
          "metadata": {},
          "execution_count": 8
        },
        {
          "output_type": "display_data",
          "data": {
            "text/plain": [
              "<Figure size 864x720 with 2 Axes>"
            ],
            "image/png": "[encoded data removed]"
          },
          "metadata": {
            "needs_background": "light"
          }
        }
      ]
    },
    {
      "cell_type": "markdown",
      "source": [],
      "metadata": {
        "id": "0y9hMOFmVXwk"
      }
    },
    {
      "cell_type": "code",
      "source": [
        "def UnmapLabels( label ):\n",
        "  unmap_labels = {0 : 'non-offensive',\n",
        "          1 : 'offensive',\n",
        "          2 : 'direct',\n",
        "          3 : 'descriptive',\n",
        "          4 : 'reporting'\n",
        "          }\n",
        "  return unmap_labels[label]"
      ],
      "metadata": {
        "id": "WchN5QgVmLFJ"
      },
      "execution_count": 4,
      "outputs": []
    },
    {
      "cell_type": "code",
      "source": [
        "run_on_test = False\n",
        "\n",
        "Tfidf_vect = TfidfVectorizer()\n",
        "\n",
        "train_data, val_data, train_labels, val_labels = train_test_split(train_data, train_labels, test_size=0.2, random_state=0)\n",
        "\n",
        "Tfidf_vect.fit(train_data)\n",
        "\n",
        "Train_data_Tfidf = Tfidf_vect.transform(train_data)\n",
        "Val_data_Tfidf = Tfidf_vect.transform(val_data)\n",
        "Test_data_Tfidf = Tfidf_vect.transform(test_data)"
      ],
      "metadata": {
        "id": "VETzvsnx9L_-"
      },
      "execution_count": 5,
      "outputs": []
    },
    {
      "cell_type": "code",
      "source": [
        "print( off, not_off, direct, desc, rep)\n",
        "\n",
        "weight_off = (num_labels / off)/5.0 \n",
        "weight_not_off = (num_labels / not_off)/5.0\n",
        "weight_direct = (num_labels / direct)/5.0\n",
        "weight_desc = (num_labels / desc)/5.0\n",
        "weight_rep = (num_labels / rep)/5.0\n",
        "class_weight = {0: weight_off, 1: weight_not_off, 2: weight_direct, 3: weight_desc, 4: weight_rep}\n",
        "\n",
        "print(class_weight)\n",
        "#running SVM\n",
        "SVM = svm.SVC(C=1.0, kernel='linear', degree=3, gamma='auto',verbose=True,class_weight=class_weight)\n",
        "SVM.fit(Train_data_Tfidf,train_labels)\n",
        "\n",
        "#predciting\n",
        "if run_on_test is False:\n",
        "  predictions_SVM = SVM.predict(Val_data_Tfidf)\n",
        "  print(classification_report(val_labels,predictions_SVM))\n",
        "else:\n",
        "  predictions_SVM = SVM.predict(Test_data_Tfidf)\n",
        "  drive.mount('/drive')\n",
        "  predictions_SVM = [[idx,UnmapLabels(label)] for idx,label in enumerate(predictions_SVM)]\n",
        "  predictions_SVM = pd.DataFrame( predictions_SVM, columns = ['Id', 'Label'])\n",
        "  predictions_SVM.set_index( 'Id', inplace=True )\n",
        "  predictions_SVM.to_csv('/drive/My Drive/Nitro NLP - cercopitechs/SVM_predictions.csv')\n"
      ],
      "metadata": {
        "colab": {
          "base_uri": "https://localhost:8080/"
        },
        "id": "FDLLNqZxFoIM",
        "outputId": "1e9f0b0a-b423-48e9-dd64-e9637b887e63"
      },
      "execution_count": 6,
      "outputs": [
        {
          "output_type": "stream",
          "name": "stdout",
          "text": [
            "30828 4299 2156 1494 219\n",
            "{0: 0.2529907875956922, 1: 1.8141893463596186, 2: 3.617439703153989, 3: 5.220348058902276, 4: 35.612785388127854}\n",
            "[LibSVM]              precision    recall  f1-score   support\n",
            "\n",
            "           0       0.93      0.86      0.89      6215\n",
            "           1       0.53      0.60      0.56       868\n",
            "           2       0.51      0.72      0.60       408\n",
            "           3       0.37      0.61      0.46       268\n",
            "           4       0.36      0.12      0.18        41\n",
            "\n",
            "    accuracy                           0.81      7800\n",
            "   macro avg       0.54      0.58      0.54      7800\n",
            "weighted avg       0.84      0.81      0.82      7800\n",
            "\n"
          ]
        }
      ]
    },
    {
      "cell_type": "code",
      "source": [
        "#running XGB\n",
        "xgb_classifier = xgb.XGBClassifier()\n",
        "xgb= xgb_classifier.fit(Train_data_Tfidf,train_labels)\n",
        "\n",
        "#predciting\n",
        "if run_on_test is False:\n",
        "  predictions_xgb = xgb.predict(Val_data_Tfidf)\n",
        "  print(classification_report(val_labels,predictions_xgb))\n",
        "else:\n",
        "  predictions_xgb = xgb.predict(Test_data_Tfidf)\n",
        "  drive.mount('/drive')\n",
        "  predictions_xgb = [[idx,UnmapLabels(label)] for idx,label in enumerate(predictions_xgb)]\n",
        "  predictions_xgb = pd.DataFrame( predictions_xgb, columns = ['Id', 'Label'])\n",
        "  predictions_xgb.set_index( 'Id', inplace=True )\n",
        "  predictions_xgb.to_csv('/drive/My Drive/Nitro NLP - cercopitechs/XGB_predictions.csv')"
      ],
      "metadata": {
        "colab": {
          "base_uri": "https://localhost:8080/"
        },
        "id": "Z0DLtkgZ9Or3",
        "outputId": "b23aa365-024f-4f26-c28f-3eda81fc9222"
      },
      "execution_count": 7,
      "outputs": [
        {
          "output_type": "stream",
          "name": "stdout",
          "text": [
            "              precision    recall  f1-score   support\n",
            "\n",
            "           0       0.87      0.97      0.92      6215\n",
            "           1       0.70      0.41      0.52       868\n",
            "           2       0.84      0.48      0.61       408\n",
            "           3       0.46      0.26      0.34       268\n",
            "           4       1.00      0.07      0.14        41\n",
            "\n",
            "    accuracy                           0.85      7800\n",
            "   macro avg       0.77      0.44      0.50      7800\n",
            "weighted avg       0.84      0.85      0.83      7800\n",
            "\n"
          ]
        }
      ]
    },
    {
      "cell_type": "code",
      "source": [
        " predictions_xgb"
      ],
      "metadata": {
        "id": "j_74mc9ilZKC"
      },
      "execution_count": null,
      "outputs": []
    }
  ]
}
